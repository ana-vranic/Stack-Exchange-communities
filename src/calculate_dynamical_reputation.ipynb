{
 "cells": [
  {
   "cell_type": "code",
   "execution_count": 1,
   "id": "8cdb78b1-1916-4f84-8b1f-3e29f6ff6973",
   "metadata": {},
   "outputs": [],
   "source": [
    "import time\n",
    "import dynamical_reputation as dr\n",
    "import pandas as pd\n",
    "\n",
    "def prepare_data(name, ltlim, htlim, reputation):\n",
    "    \"\"\"Loads interaction data and uses it as an input to merge_interactions function from dr module.\n",
    "    Slices interaction data between two dates for a specific community and merges all interactions\n",
    "    required for a specific type of reputation.\n",
    "\n",
    "    Args:\n",
    "        name (str): Name of the community\n",
    "        ltlim (int): Lower time limit in days. \n",
    "        htlim (int): Upper time limit in days.\n",
    "        reputation (str): \"pop\" for popularity reputation or \"eng for engagement reputation\"\n",
    "\n",
    "    Returns:\n",
    "        (DataFrame): Dataframe with three columns: user ID, time-stamp and day of interaction.\n",
    "    \"\"\"    \n",
    "    location = \"../data/interactions/%s\"%name\n",
    "    \n",
    "    qa = pd.read_csv('%s/%s_interactions_questions_answers.csv'%(location,name)) #questions-answers\n",
    "    comm = pd.read_csv('%s/%s_interactions_comments.csv'%(location, name)) # comments\n",
    "    acc = pd.read_csv('%s/%s_interactions_acc_answers.csv'%(location,name)) # accepted answers\n",
    "    q = pd.read_csv('%s/%s_interactions_post_questions.csv'%(location, name)) # posted questions\n",
    "    \n",
    "    data = dr.merge_interactions (qa, comm, acc, q,  ltlim, htlim, reputation)\n",
    "    \n",
    "    return data\n",
    "\n",
    "def calculate_reputations(name):\n",
    "    \"\"\"Calculates time series of both engagement and popularity reputation for each user for 180 days for a given community.\n",
    "    Reputation is calculated with following parameters:\n",
    "    - beta = 0.96\n",
    "    - Ib=1\n",
    "    - alpha = 2\n",
    "    - decay_per_day = \"False\"\n",
    "    Writes time-series in a .csv file where row names are user IDs and colunm names are days (0-179).\n",
    "    Args:\n",
    "        name (str): Community name\n",
    "    \"\"\"    \n",
    "    location = \"../data/reputations/\"\n",
    "    \n",
    "    data_pop = prepare_data(name, 0, 180, \"pop\")\n",
    "    dr_pop = dr.calculate_dynamical_reputation(data_pop, beta=0.96, Ib=1, alpha=2, decay_per_day=\"False\")\n",
    "    dr_pop.to_csv(\"%s/%s_first_180_days_pop_reputation.csv\"%(location, name))\n",
    "    \n",
    "    data_eng = prepare_data(name, 0, 180, \"eng\")\n",
    "    dr_eng = dr.calculate_dynamical_reputation(data_eng, beta=0.96, Ib=1, alpha=2, decay_per_day=\"False\")\n",
    "    dr_eng.to_csv(\"%s/%s_first_180_days_eng_reputation.csv\"%(location, name))\n",
    "\n",
    "def calculate_reputations_beta(name, b):\n",
    "    \"\"\" Same as calculate_reputations except beta parameter is taken as input.\n",
    "\n",
    "    Args:\n",
    "        name (str): Community name\n",
    "        b (float): Beta parameter\n",
    "    \"\"\"    \n",
    "    location = \"../data/reputations/\"\n",
    "    \n",
    "    data_eng = prepare_data(name, 0, 180, \"eng\")\n",
    "    dr_eng = dr.calculate_dynamical_reputation(data_eng, beta=b, Ib=1, alpha=2, decay_per_day=\"False\")\n",
    "    dr_eng.to_csv(\"%s/%s_first_180_days_eng_reputation_beta%s.csv\"%(location, name, b))\n",
    "    \n",
    "def calculate_reputations_beta_alpha(name, b, a):\n",
    "    \"\"\" Same as calculate_reputations except beta parameter is taken as input.\n",
    "\n",
    "    Args:\n",
    "        name (str): Community name\n",
    "        b (float): Beta parameter\n",
    "        a (int): Alpha parameter\n",
    "    \"\"\"    \n",
    "    location = \"../data/reputations/\"\n",
    "    \n",
    "    data_eng = prepare_data(name, 0, 180, \"eng\")\n",
    "    dr_eng = dr.calculate_dynamical_reputation(data_eng, beta=b, Ib=1, alpha=a, decay_per_day=\"False\")\n",
    "    dr_eng.to_csv(\"%s/%s_first_180_days_eng_reputation_beta%s_alpha%s.csv\"%(location, name, b, a))\n",
    "    \n"
   ]
  },
  {
   "cell_type": "code",
   "execution_count": 3,
   "id": "ff966813-06c5-45d8-b419-0480ac0b19a5",
   "metadata": {},
   "outputs": [],
   "source": [
    "for name in [\"startups\", \"122013-answers-onstartups\"]:\n",
    "    calculate_reputations(name)"
   ]
  },
  {
   "cell_type": "code",
   "execution_count": 2,
   "id": "bd319e9d-414e-4632-956d-323959f90cb3",
   "metadata": {},
   "outputs": [],
   "source": [
    "for name in [\"physics\"]:\n",
    "    for b in [0.96, 0.99]:\n",
    "        for a in [1, 2]:\n",
    "            calculate_reputations_beta_alpha(name, b, a)"
   ]
  },
  {
   "cell_type": "code",
   "execution_count": null,
   "id": "1d018ff1-3804-4cac-a773-eee6f617c921",
   "metadata": {},
   "outputs": [],
   "source": [
    "for name in [\"052012astronomy\", \"052012economics\", \"052012-literature\", \"052012-theoretical-physics\", \n",
    "            \"astronomy\", \"economics\", \"literature\", \"physics\"]:\n",
    "    calculate_reputations(name)"
   ]
  },
  {
   "cell_type": "code",
   "execution_count": 2,
   "id": "4bd67f80-ddeb-4985-87d4-6e08d9fcde05",
   "metadata": {},
   "outputs": [
    {
     "name": "stdout",
     "output_type": "stream",
     "text": [
      "052012astronomy\n",
      "052012economics\n",
      "052012-literature\n",
      "052012-theoretical-physics\n",
      "astronomy\n",
      "economics\n",
      "literature\n",
      "physics\n"
     ]
    }
   ],
   "source": [
    "  for name in [\"052012astronomy\", \"052012economics\", \"052012-literature\", \"052012-theoretical-physics\", \n",
    "            \"astronomy\", \"economics\", \"literature\", \"physics\"]:\n",
    "    print(name)\n",
    "    for b in [0.94, 0.941, 0.942, 0.943, 0.944, 0.945, 0.946, 0.947, 0.948, 0.949]:\n",
    "            calculate_reputations_beta(name, b)"
   ]
  }
 ],
 "metadata": {
  "kernelspec": {
   "display_name": "Python 3 (ipykernel)",
   "language": "python",
   "name": "python3"
  },
  "language_info": {
   "codemirror_mode": {
    "name": "ipython",
    "version": 3
   },
   "file_extension": ".py",
   "mimetype": "text/x-python",
   "name": "python",
   "nbconvert_exporter": "python",
   "pygments_lexer": "ipython3",
   "version": "3.8.10"
  }
 },
 "nbformat": 4,
 "nbformat_minor": 5
}
