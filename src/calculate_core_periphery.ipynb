{
 "cells": [
  {
   "cell_type": "code",
   "execution_count": 3,
   "id": "1852c980",
   "metadata": {
    "collapsed": false,
    "jupyter": {
     "outputs_hidden": false
    }
   },
   "outputs": [],
   "source": [
    "import core_periphery_functions as cpf # import some helpers functions\n",
    "from multiprocessing import Pool, cpu_count\n",
    "import pandas as pd\n",
    "from core_periphery_sbm import core_periphery as cp\n",
    "from core_periphery_sbm import network_helper as nh\n",
    "from core_periphery_sbm import model_fit as mf\n",
    "import networkx as nx\n",
    "import os"
   ]
  },
  {
   "cell_type": "markdown",
   "id": "b6951568",
   "metadata": {},
   "source": [
    "`from core_periphery_sbm `\n",
    "\n",
    "For calculating core-periphery structure we use code available here https://github.com/ryanjgallagher/core_periphery_sbm \n",
    "\n",
    "We constructed 30 days subnetworks [t, t+30] from iteractions data `../data/interactions/`, and for each subnetwork inferred core-periphery structure. For each community we store all subnetworks configurations in hdf5 file `../data/core periphery/community_qa_comm.hdf5`. For example key `labels_0-30days` is list of tupples `(node, group)`. If node is in the core `group=0.0`, otherwise it is `1.0` "
   ]
  },
  {
   "cell_type": "markdown",
   "id": "b177e380",
   "metadata": {},
   "source": [
    "In this example we show how to calculate core-periphery structure of subnetworks using biSBM model. \n",
    "\n",
    "Note that our main results our obtained from the sample. We run 50 iterations for each submetwork and choose the best configuration according minimum description lenght. "
   ]
  },
  {
   "cell_type": "code",
   "execution_count": null,
   "id": "4c45869e",
   "metadata": {
    "collapsed": false,
    "jupyter": {
     "outputs_hidden": false
    }
   },
   "outputs": [],
   "source": [
    "def run_sbm(G):\n",
    "\n",
    "    hubspoke = cp.HubSpokeCorePeriphery(n_gibbs=100, n_mcmc=10*len(G))\n",
    "    hubspoke.infer(G)\n",
    "    labels = hubspoke.get_labels(last_n_samples=50, prob=False, return_dict=True)\n",
    "    \n",
    "    #model selection\n",
    "    inf_labels_hs = hubspoke.get_labels(last_n_samples=50, prob=False, return_dict=False)\n",
    "    mdl_hubspoke = mf.mdl_hubspoke(G, inf_labels_hs, n_samples=100000)\n",
    "\n",
    "    return labels, mdl_hubspoke\n",
    "\n",
    "def mpi_run(edges):\n",
    "    G = nx.Graph()\n",
    "    G.add_edges_from(edges)  \n",
    "    labels, mdl = run_sbm(G)\n",
    "    ns, ms, Ms = nh.get_block_stats(G, labels, n_blocks=2)\n",
    "    return labels, ns, ms, Ms, mdl\n",
    "\n",
    "\n",
    "if __name__ == '__main__':\n",
    "\n",
    "    name = \"astronomy\" #\"052012astronomy\", \"052012economics\", \"052012-literature\", \"052012-theoretical-physics\", \"astronomy\", \"economics\", \"literature\", \"physics\"\n",
    "        \n",
    "    nproc = 2\n",
    "    print(name)\n",
    "\n",
    "    tip = 'qa_comm'\n",
    "    nodes = 'all'             \n",
    "\n",
    "    loc='../data/interactions/%s/'%name\n",
    "    qa = pd.read_csv(loc+'%s_interactions_questions_answers.csv'%(name))\n",
    "    acc = pd.read_csv(loc+'%s_interactions_acc_answers.csv'%(name))\n",
    "    comm = pd.read_csv(loc+'%s_interactions_comments.csv'%(name))\n",
    "\n",
    "    window = 30\n",
    "    data = []\n",
    "\n",
    "    for i in range (0, 150):\n",
    "        ltlim = time0 + i\n",
    "        htlim = time1 + i\n",
    "        interactions = cpf.merge_interactions(qa, acc, comm, ltlim, htlim, tip=tip)\n",
    "        edges = cpf.filter_edges(interactions)\n",
    "        data.append(edges)\n",
    "\n",
    "    pool = Pool(nproc)\n",
    "    results = pool.map(mpi_run, data)\n",
    "    \n",
    "    path='../data/core_periphery_1itteration/'\n",
    "    os.makedirs(path, exist_ok=True)\n",
    "    fname = path+'%s_window%s.hdf5'%(name, window)\n",
    "    cpf.write_results( results, fname, window)\n"
   ]
  }
 ],
 "metadata": {
  "kernelspec": {
   "display_name": "Python 3 (ipykernel)",
   "language": "python",
   "name": "python3"
  },
  "language_info": {
   "codemirror_mode": {
    "name": "ipython",
    "version": 3
   },
   "file_extension": ".py",
   "mimetype": "text/x-python",
   "name": "python",
   "nbconvert_exporter": "python",
   "pygments_lexer": "ipython3",
   "version": "3.8.10"
  },
  "name": "calculate_core_periphery.ipynb"
 },
 "nbformat": 4,
 "nbformat_minor": 5
}
